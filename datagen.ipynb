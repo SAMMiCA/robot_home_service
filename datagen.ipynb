{
 "cells": [
  {
   "cell_type": "code",
   "execution_count": 1,
   "metadata": {},
   "outputs": [
    {
     "name": "stderr",
     "output_type": "stream",
     "text": [
      "/home/yhkim/miniconda3/envs/robot-home-service/lib/python3.8/site-packages/tqdm/auto.py:22: TqdmWarning: IProgress not found. Please update jupyter and ipywidgets. See https://ipywidgets.readthedocs.io/en/stable/user_install.html\n",
      "  from .autonotebook import tqdm as notebook_tqdm\n"
     ]
    }
   ],
   "source": [
    "import argparse\n",
    "import json\n",
    "import multiprocessing as mp\n",
    "import os\n",
    "import pickle\n",
    "import platform\n",
    "import queue\n",
    "import random\n",
    "import sys\n",
    "import warnings\n",
    "import time\n",
    "import copy\n",
    "from pathlib import Path\n",
    "from collections import defaultdict\n",
    "from typing import List, Sequence, Set, Dict, Optional, Any, cast\n",
    "\n",
    "sys.path.insert(0, os.getcwd())\n",
    "\n",
    "import compress_pickle\n",
    "import numpy as np\n",
    "import torch\n",
    "import tqdm\n",
    "from ai2thor.controller import Controller\n",
    "from ai2thor.platform import CloudRendering\n",
    "\n",
    "from allenact.utils.misc_utils import md5_hash_str_as_int\n",
    "from allenact_plugins.ithor_plugin.ithor_environment import IThorEnvironment\n",
    "from datagen.datagen_utils import (\n",
    "    get_random_seeds,\n",
    "    find_object_by_type,\n",
    "    scene_from_type_idx,\n",
    "    remove_objects_until_all_have_identical_meshes,\n",
    "    check_object_opens,\n",
    "    filter_pickupable,\n",
    "    mapping_counts,\n",
    "    open_objs\n",
    ")\n",
    "from datagen.datagen_constants import NUM_TEST_TASKS, NUM_TRAIN_TASKS, NUM_VAL_TASKS, PICKUPABLE_RECEPTACLE_PAIRS, PICKUP_OBJECTS_FOR_TEST, GOOD_4_ROOM_HOUSES, STAGE_TO_DEST_NUM_SCENES, STAGE_TO_VALID_TASK_TO_SCENES, STAGE_TO_VALID_TASKS\n",
    "from env.constants import IOU_THRESHOLD, OBJECT_TYPES_WITH_PROPERTIES, SCENE_TYPE_TO_SCENES, STARTER_HOME_SERVICE_DATA_DIR, THOR_COMMIT_ID\n",
    "from env.environment import (\n",
    "    HomeServiceEnvironment,\n",
    "    HomeServiceTaskSpec,\n",
    ")\n",
    "from env.utils import extract_obj_data\n",
    "\n",
    "\n",
    "args = argparse.Namespace()\n",
    "args.debug = True\n",
    "args.mode = \"train\"\n",
    "\n"
   ]
  },
  {
   "cell_type": "code",
   "execution_count": 2,
   "metadata": {},
   "outputs": [],
   "source": [
    "# task_type: None\n",
    "stage_seeds = get_random_seeds()\n",
    "\n",
    "stage_to_tasks = {\n",
    "    stage: STAGE_TO_VALID_TASKS[stage]\n",
    "    for stage in [args.mode]\n",
    "}\n",
    "house_count = 1\n",
    "scene_count = 1\n",
    "\n",
    "partition = \"train\" if args.mode == \"train\" else \"valid\"\n",
    "idxs = [0,]\n",
    "stage_to_tasks = {\n",
    "    \"debug\": [\n",
    "        stage_to_tasks[partition][idx]\n",
    "        for idx in idxs\n",
    "    ]\n",
    "}\n",
    "\n",
    "stage_to_task_to_task_specs = {\n",
    "    stage: {} for stage in stage_to_tasks\n",
    "}\n",
    "\n",
    "for stage in stage_to_tasks:\n",
    "    for task in stage_to_tasks[stage]:\n",
    "        if task not in stage_to_task_to_task_specs[stage]:\n",
    "            stage_to_task_to_task_specs[stage][task] = [\n",
    "                [-1] * scene_count\n",
    "            ] * house_count\n",
    "            "
   ]
  },
  {
   "cell_type": "code",
   "execution_count": 3,
   "metadata": {},
   "outputs": [
    {
     "name": "stderr",
     "output_type": "stream",
     "text": [
      "Loading train: 100%|██████████| 10000/10000 [00:01<00:00, 8393.61it/s]\n",
      "Loading val: 100%|██████████| 1000/1000 [00:00<00:00, 8743.54it/s]\n",
      "Loading test: 100%|██████████| 1000/1000 [00:00<00:00, 8883.00it/s]\n"
     ]
    },
    {
     "name": "stdout",
     "output_type": "stream",
     "text": [
      "Task train train_pick_and_place_AlarmClock_Dresser for train_7772 limits\n"
     ]
    }
   ],
   "source": [
    "# Runner to work - task_type = find_limits\n",
    "task_type = \"find_limits\"\n",
    "task_info = dict(\n",
    "    scene=\"\",\n",
    "    stage=stage,\n",
    "    task=task,\n",
    "    seed=stage_seeds[stage],\n",
    "    house_count=house_count,\n",
    ")\n",
    "\n",
    "(\n",
    "    scene,\n",
    "    seed,\n",
    "    stage,\n",
    "    task,\n",
    "    house_count,\n",
    "    # scene_i,\n",
    "    # obj_name_to_avoid_positions,\n",
    ") = (\n",
    "    task_info[\"scene\"],\n",
    "    task_info[\"seed\"],\n",
    "    task_info[\"stage\"],\n",
    "    task_info[\"task\"],\n",
    "    task_info[\"house_count\"],\n",
    "    # task_info[\"scene_i\"],\n",
    "    # task_info[\"obj_name_to_avoid_positions\"],\n",
    ")\n",
    "\n",
    "mode = task.split(\"_\")[0]\n",
    "\n",
    "\n",
    "# Worker init env\n",
    "env = HomeServiceEnvironment(\n",
    "    force_cache_reset=True,\n",
    "    controller_kwargs={\n",
    "        \"scene\": \"Procedural\",\n",
    "        \"x_display\": None,\n",
    "        \"platform\": CloudRendering,\n",
    "    },\n",
    ")\n",
    "env._houses.mode(mode)\n",
    "\n",
    "from datagen.datagen_runner import find_scene_to_limits_for_task\n",
    "\n",
    "data = find_scene_to_limits_for_task(\n",
    "    stage_seed=seed,\n",
    "    scene=scene,\n",
    "    env=env,\n",
    "    stage=stage,\n",
    "    task=task,\n",
    "    house_count=house_count,\n",
    ")"
   ]
  },
  {
   "cell_type": "code",
   "execution_count": 4,
   "metadata": {},
   "outputs": [],
   "source": [
    "# Worker to Runner: task_type = \"find_limits\"\n",
    "resuls = data\n",
    "scene = list(data.keys())[0]\n",
    "limits = list(data.values())[0]\n",
    "task_info[\"scene\"] = scene\n",
    "task_info[\"limits\"] = limits\n",
    "task_info[\"house_i\"] = 0\n",
    "task_info[\"scene_i\"] = 0\n",
    "task_info[\"house_count\"] = 1\n",
    "task_info[\"scene_count\"] = 1\n",
    "task_type = \"home_service\""
   ]
  },
  {
   "cell_type": "code",
   "execution_count": 6,
   "metadata": {},
   "outputs": [],
   "source": [
    "# Runner to work - task_type = home_service\n",
    "(\n",
    "    scene,\n",
    "    seed,\n",
    "    stage,\n",
    "    task,\n",
    "    house_i,\n",
    "    scene_i,\n",
    "    limits,\n",
    "    house_count,\n",
    "    scene_count,\n",
    "    # obj_name_to_avoid_positions,\n",
    ") = (\n",
    "    task_info[\"scene\"],\n",
    "    task_info[\"seed\"],\n",
    "    task_info[\"stage\"],\n",
    "    task_info[\"task\"],\n",
    "    task_info[\"house_i\"],\n",
    "    task_info[\"scene_i\"],\n",
    "    task_info[\"limits\"],\n",
    "    task_info[\"house_count\"],\n",
    "    task_info[\"scene_count\"],\n",
    "    # task_info[\"obj_name_to_avoid_positions\"],\n",
    ")\n",
    "\n",
    "mode, idx = tuple(scene.split(\"_\"))\n",
    "env._houses.mode(mode)"
   ]
  },
  {
   "cell_type": "code",
   "execution_count": 7,
   "metadata": {},
   "outputs": [
    {
     "name": "stdout",
     "output_type": "stream",
     "text": [
      "Task debug train_pick_and_place_AlarmClock_Dresser for train_7772\n"
     ]
    }
   ],
   "source": [
    "# generate_home_service_episode_for_task in datagen.datagen_runner\n",
    "stage_seed=seed\n",
    "force_visible: bool = True\n",
    "place_stationary: bool = False\n",
    "rotation_increment: int = 90\n",
    "allow_moveable_in_goal_randomization: bool = False\n",
    "object_types_to_not_move: Set[str] = set()\n",
    "\n",
    "if 360 % rotation_increment != 0:\n",
    "    raise ValueError(\"Rotation increment must be a factor of 360\")\n",
    "\n",
    "controller = env.controller\n",
    "pick, recep = task.split(\"_\")[-2], task.split(\"_\")[-1]\n",
    "\n",
    "print(f\"Task {stage} {task} for {scene}\")\n",
    "\n",
    "seed = md5_hash_str_as_int(f\"{stage_seed}|{task}|{scene}\")\n",
    "random.seed(seed)"
   ]
  },
  {
   "cell_type": "code",
   "execution_count": 8,
   "metadata": {},
   "outputs": [],
   "source": [
    "if not env.procthor_reset(scene_name=scene, force_reset=True):\n",
    "    print(f\"Cannot reset scene {scene}\")\n"
   ]
  },
  {
   "cell_type": "code",
   "execution_count": 9,
   "metadata": {},
   "outputs": [],
   "source": [
    "if not remove_objects_until_all_have_identical_meshes(controller):\n",
    "    print(\n",
    "        f\"Failed to remove_objects_until_all_have_identical_meshes in {scene}\"\n",
    "    )"
   ]
  },
  {
   "cell_type": "code",
   "execution_count": 10,
   "metadata": {},
   "outputs": [],
   "source": [
    "scene_has_openable = 0 != len(\n",
    "    [\n",
    "        o\n",
    "        for o in controller.last_event.metadata[\"objects\"]\n",
    "        if o[\"openable\"] and not o[\"pickupable\"]\n",
    "    ]\n",
    ")"
   ]
  },
  {
   "cell_type": "code",
   "execution_count": 11,
   "metadata": {},
   "outputs": [
    {
     "data": {
      "text/plain": [
       "True"
      ]
     },
     "execution_count": 11,
     "metadata": {},
     "output_type": "execute_result"
    }
   ],
   "source": [
    "scene_has_openable"
   ]
  },
  {
   "cell_type": "code",
   "execution_count": 12,
   "metadata": {},
   "outputs": [],
   "source": [
    "evt = controller.step(\"GetReachablePositions\")\n",
    "rps: List[Dict[str, float]] = evt.metadata[\"actionReturn\"][:]\n",
    "rps.sort(key=lambda d: (round(d[\"x\"], 2), round(d[\"z\"], 2)))\n",
    "rotations = np.arange(0, 360, rotation_increment)\n"
   ]
  },
  {
   "cell_type": "code",
   "execution_count": 13,
   "metadata": {},
   "outputs": [],
   "source": [
    "room_to_rps = copy.deepcopy(env.room_to_reachable_positions())\n",
    "for room, room_rps in room_to_rps.items():\n",
    "    room_rps.sort(key=lambda d: (round(d[\"x\"], 2), round(d[\"z\"], 2)))"
   ]
  },
  {
   "cell_type": "code",
   "execution_count": 15,
   "metadata": {},
   "outputs": [],
   "source": [
    "all_objects = env.ids_to_objs()\n",
    "possible_starting_rooms = sorted(list(env.room_to_poly.keys()))\n",
    "possible_target_rooms = []\n",
    "if recep != \"User\":\n",
    "    possible_target_rooms = [\n",
    "        room_id\n",
    "        for room_id, rids in limits[\"room_receptacles\"].items()\n",
    "        for rid in rids\n",
    "        if all_objects[rid][\"objectType\"] == recep\n",
    "    ]\n",
    "st = random.getstate()\n",
    "random.seed(1234567)\n",
    "random.shuffle(possible_starting_rooms)\n",
    "random.shuffle(possible_target_rooms)\n",
    "random.setstate(st)"
   ]
  },
  {
   "cell_type": "code",
   "execution_count": 16,
   "metadata": {},
   "outputs": [
    {
     "data": {
      "text/plain": [
       "['room|5', 'room|6', 'room|4', 'room|7']"
      ]
     },
     "execution_count": 16,
     "metadata": {},
     "output_type": "execute_result"
    }
   ],
   "source": [
    "possible_starting_rooms"
   ]
  },
  {
   "cell_type": "code",
   "execution_count": 17,
   "metadata": {},
   "outputs": [
    {
     "data": {
      "text/plain": [
       "['room|4']"
      ]
     },
     "execution_count": 17,
     "metadata": {},
     "output_type": "execute_result"
    }
   ],
   "source": [
    "possible_target_rooms"
   ]
  },
  {
   "cell_type": "code",
   "execution_count": 18,
   "metadata": {},
   "outputs": [
    {
     "data": {
      "text/plain": [
       "['Bed_19_0',\n",
       " 'Chair_215_1_0',\n",
       " 'Chair_215_1_1',\n",
       " 'Chair_215_1_2',\n",
       " 'Desk_311_1_0',\n",
       " 'Dining_Table_201_1_0',\n",
       " 'RoboTHOR_dresser_birkeland_0']"
      ]
     },
     "execution_count": 18,
     "metadata": {},
     "output_type": "execute_result"
    }
   ],
   "source": [
    "limits[\"room_receptacles\"][\"room|4\"]"
   ]
  },
  {
   "cell_type": "code",
   "execution_count": 19,
   "metadata": {},
   "outputs": [],
   "source": [
    "starting_room = cast(str, possible_starting_rooms[scene_i % len(possible_starting_rooms)])\n",
    "if recep != \"User\":\n",
    "    target_room = cast(str, possible_target_rooms[scene_i % len(possible_target_rooms)])\n",
    "else:\n",
    "    target_room = starting_room"
   ]
  },
  {
   "cell_type": "code",
   "execution_count": 22,
   "metadata": {},
   "outputs": [],
   "source": [
    "pos = random.choice(room_to_rps[starting_room])\n",
    "rot = {\"x\": 0, \"y\": int(random.choice(rotations)), \"z\": 0}\n",
    "init_kwargs = {\n",
    "    \"randomSeed\": random.randint(0, int(1e7) - 1),\n",
    "    \"forceVisible\": force_visible,\n",
    "    \"placeStationary\": place_stationary,\n",
    "    \"excludedReceptacles\": [\"ToiletPaperHanger\"],\n",
    "    \"allowMoveable\": allow_moveable_in_goal_randomization,\n",
    "}\n"
   ]
  },
  {
   "cell_type": "code",
   "execution_count": 23,
   "metadata": {},
   "outputs": [],
   "source": [
    "# generate_one_home_service_given_initial_conditions in datagen.datagen_runner\n",
    "from datagen.datagen_runner import generate_one_home_service_given_initial_conditions\n",
    "(\n",
    "    starting_poses,\n",
    "    target_poses,\n",
    "    objs_to_open,\n",
    ") = generate_one_home_service_given_initial_conditions(\n",
    "    env=env,\n",
    "    scene=scene,\n",
    "    task=task,\n",
    "    init_kwargs=init_kwargs,\n",
    "    agent_pos=pos,\n",
    "    agent_rot=rot,\n",
    "    starting_room=starting_room,\n",
    "    target_room=target_room,\n",
    "    # single_room=single_room,\n",
    "    # object_types_to_not_move=object_types_to_not_move,\n",
    "    # allow_putting_objects_away=MAX_TRIES >= try_count >= MAX_TRIES // 2,\n",
    "    # possible_openable_ids=limits[\"room_openables\"][single_room]\n",
    "    # if single_room in limits[\"room_openables\"]\n",
    "    # else [],\n",
    ")"
   ]
  },
  {
   "cell_type": "code",
   "execution_count": 27,
   "metadata": {},
   "outputs": [],
   "source": [
    "task_spec_dict = {\n",
    "    \"pickup_object\": pick,\n",
    "    \"target_receptacle\": recep,\n",
    "    \"agent_position\": pos,\n",
    "    \"agent_rotation\": int(rot[\"y\"]),\n",
    "    \"starting_poses\": starting_poses,\n",
    "    \"target_poses\": target_poses,\n",
    "    \"objs_to_open\": objs_to_open,\n",
    "}"
   ]
  },
  {
   "cell_type": "code",
   "execution_count": 28,
   "metadata": {},
   "outputs": [
    {
     "data": {
      "text/plain": [
       "True"
      ]
     },
     "execution_count": 28,
     "metadata": {},
     "output_type": "execute_result"
    }
   ],
   "source": [
    "# HomeServiceEnvironment.reset in env.environment\n",
    "# HomeServiceEnvironment._task_spec_reset in env.environment\n",
    "\n",
    "task_spec = HomeServiceTaskSpec(\n",
    "    scene=scene,\n",
    "    **task_spec_dict,\n",
    ")\n",
    "force_reset: bool = True\n",
    "close_doors: bool = False\n",
    "merge_rooms: bool = True\n",
    "house: Optional[Dict[str, Any]] = None\n",
    "\n",
    "env.procthor_reset(\n",
    "    task_spec.scene,\n",
    "    force_reset=force_reset,\n",
    "    close_doors=close_doors,\n",
    "    merge_rooms=merge_rooms,\n",
    "    house=house,\n",
    ")"
   ]
  },
  {
   "cell_type": "code",
   "execution_count": 30,
   "metadata": {},
   "outputs": [],
   "source": [
    "if env._enhanced_physics_determinism:\n",
    "    env.controller.step(\"PausePhysicsAutoSim\")"
   ]
  },
  {
   "cell_type": "code",
   "execution_count": 31,
   "metadata": {},
   "outputs": [
    {
     "data": {
      "text/plain": [
       "<ai2thor.server.Event at 0x7f8942ab2430\n",
       "    .metadata[\"lastAction\"] = PausePhysicsAutoSim\n",
       "    .metadata[\"lastActionSuccess\"] = True\n",
       "    .metadata[\"errorMessage\"] = \"\n",
       "    .metadata[\"actionReturn\"] = None\n",
       ">"
      ]
     },
     "execution_count": 31,
     "metadata": {},
     "output_type": "execute_result"
    }
   ],
   "source": [
    "env.controller.last_event"
   ]
  },
  {
   "cell_type": "code",
   "execution_count": 32,
   "metadata": {},
   "outputs": [],
   "source": [
    "obj_ids = [\n",
    "    obj[\"objectId\"]\n",
    "    for obj in env.objects()\n",
    "    if obj[\"objectType\"]\n",
    "    not in [\"Wall\", \"Floor\", \"Window\", \"Doorway\", \"Doorframe\", \"Room\"]\n",
    "]"
   ]
  },
  {
   "cell_type": "code",
   "execution_count": 34,
   "metadata": {},
   "outputs": [
    {
     "data": {
      "text/plain": [
       "<ai2thor.server.Event at 0x7f89584ea790\n",
       "    .metadata[\"lastAction\"] = SetObjectFilter\n",
       "    .metadata[\"lastActionSuccess\"] = True\n",
       "    .metadata[\"errorMessage\"] = \"\n",
       "    .metadata[\"actionReturn\"] = None\n",
       ">"
      ]
     },
     "execution_count": 34,
     "metadata": {},
     "output_type": "execute_result"
    }
   ],
   "source": [
    "env.controller.step(\n",
    "    action=\"SetObjectFilter\", objectIds=obj_ids,\n",
    ")"
   ]
  },
  {
   "cell_type": "code",
   "execution_count": 35,
   "metadata": {},
   "outputs": [
    {
     "data": {
      "text/plain": [
       "99"
      ]
     },
     "execution_count": 35,
     "metadata": {},
     "output_type": "execute_result"
    }
   ],
   "source": [
    "len(env.controller.last_event.metadata[\"objects\"])"
   ]
  },
  {
   "cell_type": "code",
   "execution_count": 36,
   "metadata": {},
   "outputs": [
    {
     "data": {
      "text/plain": [
       "<ai2thor.server.Event at 0x7f888ad8f130\n",
       "    .metadata[\"lastAction\"] = TeleportFull\n",
       "    .metadata[\"lastActionSuccess\"] = True\n",
       "    .metadata[\"errorMessage\"] = \"\n",
       "    .metadata[\"actionReturn\"] = None\n",
       ">"
      ]
     },
     "execution_count": 36,
     "metadata": {},
     "output_type": "execute_result"
    }
   ],
   "source": [
    "pos = task_spec.agent_position\n",
    "rot = {\"x\": 0, \"y\": task_spec.agent_rotation, \"z\": 0}\n",
    "env.controller.step(\n",
    "    \"TeleportFull\",\n",
    "    **pos,\n",
    "    rotation=rot,\n",
    "    horizon=0.0,\n",
    "    standing=True,\n",
    "    forceAction=True,\n",
    ")"
   ]
  },
  {
   "cell_type": "code",
   "execution_count": 39,
   "metadata": {},
   "outputs": [
    {
     "data": {
      "text/plain": [
       "True"
      ]
     },
     "execution_count": 39,
     "metadata": {},
     "output_type": "execute_result"
    }
   ],
   "source": [
    "[o['name'] for o in task_spec.starting_poses] == [o['name'] for o in task_spec.target_poses]"
   ]
  },
  {
   "cell_type": "code",
   "execution_count": 44,
   "metadata": {},
   "outputs": [],
   "source": [
    "names = [o['name'] for o in task_spec.starting_poses]\n",
    "onames = [o['name'] for o in env.objects()]\n",
    "\n",
    "enames = [n for n in onames if n not in names]"
   ]
  },
  {
   "cell_type": "code",
   "execution_count": 46,
   "metadata": {},
   "outputs": [
    {
     "data": {
      "text/plain": [
       "['Wall_Decor_Photo_2_0',\n",
       " 'Wall_Decor_Photo_1_0',\n",
       " 'Wall_Decor_Photo_1V_0',\n",
       " 'Wall_Decor_Painting_3V_0',\n",
       " 'Wall_Decor_Photo_6_0',\n",
       " 'Wall_Decor_Photo_3V_0',\n",
       " 'Wall_Decor_Photo_9_0',\n",
       " 'Wall_Decor_Painting_8_0',\n",
       " 'bin_23_0',\n",
       " 'Houseplant_18_0',\n",
       " 'Shelf_Open (1)',\n",
       " 'Shelf_Open',\n",
       " 'Dining_Table_23_2_0',\n",
       " 'Sofa_220_1_0',\n",
       " 'Television_13_0',\n",
       " 'TV_Stand_222_1_0',\n",
       " 'Houseplant_18_1',\n",
       " 'bin_17_0',\n",
       " 'Chair_311_1_0',\n",
       " 'Chair_311_1_1',\n",
       " 'Chair_311_1_2',\n",
       " 'Chair_311_1_3',\n",
       " 'Vase_Medium_4_0',\n",
       " 'Dining_Table_218_1_0',\n",
       " 'Fridge_22_0',\n",
       " 'Microwave_5_0',\n",
       " 'Countertop_C_8x10_0',\n",
       " 'bin_20_0',\n",
       " 'Bathroom_Faucet_30_0',\n",
       " 'SinkBasin',\n",
       " 'Sink_19_0',\n",
       " 'Toilet_1_0',\n",
       " 'Chair_215_1_0',\n",
       " 'Chair_215_1_1',\n",
       " 'Chair_215_1_2',\n",
       " 'Desk_Lamp_4_0',\n",
       " 'Houseplant_10_0',\n",
       " 'Vase_Open_1_0',\n",
       " 'Dining_Table_201_1_0',\n",
       " 'Desk_Lamp_2_0',\n",
       " 'Desk_311_1_0',\n",
       " 'Drawer (5)',\n",
       " 'Drawer (4)',\n",
       " 'Drawer (3)',\n",
       " 'Drawer (2)',\n",
       " 'Drawer (1)',\n",
       " 'Drawer',\n",
       " 'RoboTHOR_dresser_birkeland_0',\n",
       " 'Bed_19_0']"
      ]
     },
     "execution_count": 46,
     "metadata": {},
     "output_type": "execute_result"
    }
   ],
   "source": [
    "enames"
   ]
  },
  {
   "cell_type": "code",
   "execution_count": 47,
   "metadata": {},
   "outputs": [
    {
     "data": {
      "text/plain": [
       "<ai2thor.server.Event at 0x7f888a883370\n",
       "    .metadata[\"lastAction\"] = SetObjectPoses\n",
       "    .metadata[\"lastActionSuccess\"] = True\n",
       "    .metadata[\"errorMessage\"] = \"\n",
       "    .metadata[\"actionReturn\"] = \n",
       ">"
      ]
     },
     "execution_count": 47,
     "metadata": {},
     "output_type": "execute_result"
    }
   ],
   "source": [
    "env.controller.step(\n",
    "    \"SetObjectPoses\",\n",
    "    objectPoses=task_spec.starting_poses,\n",
    "    **env.set_object_poses_params(),\n",
    ")"
   ]
  },
  {
   "cell_type": "code",
   "execution_count": 48,
   "metadata": {},
   "outputs": [
    {
     "data": {
      "text/plain": [
       "{'name': 'Alarm_Clock_21_0',\n",
       " 'objectName': 'Alarm_Clock_21_0',\n",
       " 'position': {'x': 0.44407251477241516,\n",
       "  'y': 0.8022906184196472,\n",
       "  'z': 7.238447189331055},\n",
       " 'rotation': {'x': 359.7735290527344,\n",
       "  'y': 0.0005084187141619623,\n",
       "  'z': 0.0017071663169190288}}"
      ]
     },
     "execution_count": 48,
     "metadata": {},
     "output_type": "execute_result"
    }
   ],
   "source": [
    "task_spec.starting_poses[0]"
   ]
  },
  {
   "cell_type": "code",
   "execution_count": 49,
   "metadata": {},
   "outputs": [],
   "source": [
    "ppp = {}\n",
    "for it, (sp, tp) in enumerate(zip(task_spec.starting_poses, task_spec.target_poses)):\n",
    "    position_dist = IThorEnvironment.position_dist(\n",
    "        sp[\"position\"], tp[\"position\"]\n",
    "    )\n",
    "    rotation_dist = IThorEnvironment.angle_between_rotations(\n",
    "        sp[\"rotation\"], tp[\"rotation\"]\n",
    "    )\n",
    "    same = False\n",
    "    if position_dist < 1e-2 and rotation_dist < 10.0:\n",
    "        same = True\n",
    "\n",
    "    ppp[it] = {\n",
    "        'p': position_dist,\n",
    "        'r': rotation_dist,\n",
    "        's': same,\n",
    "    }"
   ]
  },
  {
   "cell_type": "code",
   "execution_count": 50,
   "metadata": {},
   "outputs": [
    {
     "data": {
      "text/plain": [
       "[0]"
      ]
     },
     "execution_count": 50,
     "metadata": {},
     "output_type": "execute_result"
    }
   ],
   "source": [
    "[it for it, p in ppp.items() if not p['s']]"
   ]
  },
  {
   "cell_type": "code",
   "execution_count": 51,
   "metadata": {},
   "outputs": [
    {
     "data": {
      "text/plain": [
       "{'name': 'Alarm_Clock_21_0',\n",
       " 'objectName': 'Alarm_Clock_21_0',\n",
       " 'position': {'x': 0.31954631209373474,\n",
       "  'y': 1.1283433437347412,\n",
       "  'z': 4.968244552612305},\n",
       " 'rotation': {'x': 359.7821044921875,\n",
       "  'y': 0.003348764032125473,\n",
       "  'z': 0.0017180170398205519}}"
      ]
     },
     "execution_count": 51,
     "metadata": {},
     "output_type": "execute_result"
    }
   ],
   "source": [
    "task_spec.target_poses[0]"
   ]
  },
  {
   "cell_type": "code",
   "execution_count": 53,
   "metadata": {},
   "outputs": [
    {
     "data": {
      "text/plain": [
       "{'name': 'Alarm_Clock_21_0',\n",
       " 'objectName': 'Alarm_Clock_21_0',\n",
       " 'position': {'x': 0.44407251477241516,\n",
       "  'y': 0.8022906184196472,\n",
       "  'z': 7.238447189331055},\n",
       " 'rotation': {'x': 359.7735290527344,\n",
       "  'y': 0.0005084187141619623,\n",
       "  'z': 0.0017071663169190288}}"
      ]
     },
     "execution_count": 53,
     "metadata": {},
     "output_type": "execute_result"
    }
   ],
   "source": [
    "task_spec.starting_poses[0]"
   ]
  },
  {
   "cell_type": "code",
   "execution_count": 55,
   "metadata": {},
   "outputs": [],
   "source": [
    "env.pose_inconsistency(pose_spec_list=task_spec.target_poses)"
   ]
  },
  {
   "cell_type": "code",
   "execution_count": 60,
   "metadata": {},
   "outputs": [],
   "source": [
    "from env.utils import get_pose_info\n",
    "\n",
    "o = env.ids_to_objs()[\"Alarm_Clock_21_0\"]\n",
    "env_pose = cast(Dict[str, Any], get_pose_info(o))\n"
   ]
  },
  {
   "cell_type": "code",
   "execution_count": 64,
   "metadata": {},
   "outputs": [],
   "source": [
    "shuffled_name_to_spec = {o[\"name\"]: o for o in task_spec.target_poses}\n",
    "spec_pose = dict(env_pose)\n",
    "spec_pose[\"rotation\"] = shuffled_name_to_spec[\"Alarm_Clock_21_0\"][\"rotation\"]\n",
    "spec_pose[\"position\"] = shuffled_name_to_spec[\"Alarm_Clock_21_0\"][\"position\"]"
   ]
  },
  {
   "cell_type": "code",
   "execution_count": 65,
   "metadata": {},
   "outputs": [
    {
     "data": {
      "text/plain": [
       "{'type': 'AlarmClock',\n",
       " 'position': {'x': 0.44407251477241516,\n",
       "  'y': 0.8022906184196472,\n",
       "  'z': 7.238447189331055},\n",
       " 'rotation': {'x': 359.7735290527344,\n",
       "  'y': 0.0005084187723696232,\n",
       "  'z': 0.0017071664333343506},\n",
       " 'openness': None,\n",
       " 'pickupable': True,\n",
       " 'broken': False,\n",
       " 'objectId': 'Alarm_Clock_21_0',\n",
       " 'name': 'Alarm_Clock_21_0',\n",
       " 'parentReceptacles': ['Desk_311_1_0'],\n",
       " 'bounding_box': [[0.5317944288253784, 0.8015761375427246, 7.256286144256592],\n",
       "  [0.35635095834732056, 0.8015708923339844, 7.256287574768066],\n",
       "  [0.35635054111480713, 0.8013831377029419, 7.208789348602295],\n",
       "  [0.531794011592865, 0.8013883829116821, 7.20878791809082],\n",
       "  [0.5317895412445068, 0.9651243686676025, 7.255639553070068],\n",
       "  [0.356346070766449, 0.9651191234588623, 7.255640983581543],\n",
       "  [0.35634565353393555, 0.9649313688278198, 7.2081427574157715],\n",
       "  [0.5317891240119934, 0.9649366140365601, 7.208141326904297]]}"
      ]
     },
     "execution_count": 65,
     "metadata": {},
     "output_type": "execute_result"
    }
   ],
   "source": [
    "env_pose"
   ]
  },
  {
   "cell_type": "code",
   "execution_count": 70,
   "metadata": {},
   "outputs": [
    {
     "data": {
      "text/plain": [
       "[{'name': 'Book_21_0',\n",
       "  'objectName': 'Book_21_0',\n",
       "  'position': {'x': 7.6402177810668945,\n",
       "   'y': 0.7813732028007507,\n",
       "   'z': 5.335953235626221},\n",
       "  'rotation': {'x': 0.019056078046560287,\n",
       "   'y': 180.0003204345703,\n",
       "   'z': 0.2329062819480896}},\n",
       " {'name': 'Box_19_0',\n",
       "  'objectName': 'Box_19_0',\n",
       "  'position': {'x': 2.910229206085205,\n",
       "   'y': 0.9422257542610168,\n",
       "   'z': 12.04285717010498},\n",
       "  'rotation': {'x': 359.9901428222656,\n",
       "   'y': 270.0,\n",
       "   'z': -0.0008050284232012928}},\n",
       " {'name': 'Laptop_18_0',\n",
       "  'objectName': 'Laptop_18_0',\n",
       "  'position': {'x': 4.631888389587402,\n",
       "   'y': 0.6782166361808777,\n",
       "   'z': 8.956149101257324},\n",
       "  'rotation': {'x': -3.648087555782262e-14,\n",
       "   'y': 1.0253411346639041e-05,\n",
       "   'z': 4.077082280673494e-07}},\n",
       " {'name': 'Laptop_7_0',\n",
       "  'objectName': 'Laptop_7_0',\n",
       "  'position': {'x': 3.103160858154297,\n",
       "   'y': 0.7236921787261963,\n",
       "   'z': 12.30789566040039},\n",
       "  'rotation': {'x': 1.6806190615170635e-05,\n",
       "   'y': 180.00003051757812,\n",
       "   'z': -8.065858128247783e-05}},\n",
       " {'name': 'RoboTHOR_book_ai2_5_v_0',\n",
       "  'objectName': 'RoboTHOR_book_ai2_5_v_0',\n",
       "  'position': {'x': 0.3397003412246704,\n",
       "   'y': 0.8015700578689575,\n",
       "   'z': 8.340435981750488},\n",
       "  'rotation': {'x': 359.98834228515625,\n",
       "   'y': 0.0009331438341178,\n",
       "   'z': 0.26267820596694946}}]"
      ]
     },
     "execution_count": 70,
     "metadata": {},
     "output_type": "execute_result"
    }
   ],
   "source": [
    "[o for o in task_spec.starting_poses if env.ids_to_objs()[o['name']][\"openable\"]]"
   ]
  },
  {
   "cell_type": "code",
   "execution_count": 67,
   "metadata": {},
   "outputs": [
    {
     "data": {
      "text/plain": [
       "True"
      ]
     },
     "execution_count": 67,
     "metadata": {},
     "output_type": "execute_result"
    }
   ],
   "source": [
    "env.are_poses_equal(spec_pose, env_pose, min_iou=0.9, open_tol=0.05, treat_broken_as_unequal=True)"
   ]
  },
  {
   "cell_type": "code",
   "execution_count": 71,
   "metadata": {},
   "outputs": [],
   "source": [
    "a = [{'1': 123, '2': {'x': 1, 'y': 3, 'z': 5}, '3': {'x': 2, 'y': 4, 'z': 6},}]\n",
    "b = [{'1': 123, '2': {'x': 3, 'y': 2, 'z': 1}, '3': {'x': 7, 'y': 6, 'z': 5},}]\n",
    "\n",
    "for o0, o1 in zip(a, b):\n",
    "    o0['2'] = o1['2']\n",
    "\n"
   ]
  },
  {
   "cell_type": "code",
   "execution_count": 72,
   "metadata": {},
   "outputs": [
    {
     "data": {
      "text/plain": [
       "[{'1': 123, '2': {'x': 3, 'y': 2, 'z': 1}, '3': {'x': 2, 'y': 4, 'z': 6}}]"
      ]
     },
     "execution_count": 72,
     "metadata": {},
     "output_type": "execute_result"
    }
   ],
   "source": [
    "a"
   ]
  },
  {
   "cell_type": "code",
   "execution_count": 73,
   "metadata": {},
   "outputs": [
    {
     "data": {
      "text/plain": [
       "[{'1': 123, '2': {'x': 3, 'y': 2, 'z': 1}, '3': {'x': 7, 'y': 6, 'z': 5}}]"
      ]
     },
     "execution_count": 73,
     "metadata": {},
     "output_type": "execute_result"
    }
   ],
   "source": [
    "b"
   ]
  },
  {
   "cell_type": "code",
   "execution_count": null,
   "metadata": {},
   "outputs": [],
   "source": []
  },
  {
   "cell_type": "markdown",
   "metadata": {},
   "source": []
  }
 ],
 "metadata": {
  "kernelspec": {
   "display_name": "Python 3.8.13 ('robot-home-service')",
   "language": "python",
   "name": "python3"
  },
  "language_info": {
   "codemirror_mode": {
    "name": "ipython",
    "version": 3
   },
   "file_extension": ".py",
   "mimetype": "text/x-python",
   "name": "python",
   "nbconvert_exporter": "python",
   "pygments_lexer": "ipython3",
   "version": "3.8.13"
  },
  "orig_nbformat": 4,
  "vscode": {
   "interpreter": {
    "hash": "c0080b8ccfa14bbdb832c368d2aa02ee7acee0de8edc33e7a19aed2b51b1627b"
   }
  }
 },
 "nbformat": 4,
 "nbformat_minor": 2
}
